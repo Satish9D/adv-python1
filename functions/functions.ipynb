{
 "cells": [
  {
   "cell_type": "markdown",
   "id": "7190763b",
   "metadata": {},
   "source": [
    "## Functions"
   ]
  },
  {
   "cell_type": "code",
   "execution_count": 1,
   "id": "6c2e21ac",
   "metadata": {},
   "outputs": [],
   "source": [
    "def add(x,y):\n",
    "    c=x+y\n",
    "    return c\n"
   ]
  },
  {
   "cell_type": "code",
   "execution_count": 2,
   "id": "3600911a",
   "metadata": {},
   "outputs": [],
   "source": [
    "a1=add(30,40)\n"
   ]
  },
  {
   "cell_type": "code",
   "execution_count": 4,
   "id": "de1cceb8",
   "metadata": {},
   "outputs": [
    {
     "name": "stdout",
     "output_type": "stream",
     "text": [
      "70\n"
     ]
    }
   ],
   "source": [
    "print(a1)"
   ]
  },
  {
   "cell_type": "code",
   "execution_count": 5,
   "id": "c918c03f",
   "metadata": {},
   "outputs": [
    {
     "data": {
      "text/plain": [
       "90"
      ]
     },
     "execution_count": 5,
     "metadata": {},
     "output_type": "execute_result"
    }
   ],
   "source": [
    "add(32,58)"
   ]
  },
  {
   "cell_type": "markdown",
   "id": "84fb6513",
   "metadata": {},
   "source": [
    "## variadic functions"
   ]
  },
  {
   "cell_type": "code",
   "execution_count": 6,
   "id": "d1b163ca",
   "metadata": {},
   "outputs": [
    {
     "data": {
      "text/plain": [
       "145"
      ]
     },
     "execution_count": 6,
     "metadata": {},
     "output_type": "execute_result"
    }
   ],
   "source": [
    "add(56,89)"
   ]
  },
  {
   "cell_type": "code",
   "execution_count": 7,
   "id": "1fe18584",
   "metadata": {},
   "outputs": [],
   "source": [
    "#add(78,67,56,45)"
   ]
  },
  {
   "cell_type": "code",
   "execution_count": 8,
   "id": "0026538c",
   "metadata": {},
   "outputs": [],
   "source": [
    "def add1(*args):\n",
    "    for i in args:\n",
    "        print(i)\n"
   ]
  },
  {
   "cell_type": "code",
   "execution_count": 9,
   "id": "2e409866",
   "metadata": {},
   "outputs": [
    {
     "name": "stdout",
     "output_type": "stream",
     "text": [
      "78\n",
      "67\n",
      "56\n",
      "45\n"
     ]
    }
   ],
   "source": [
    "add1(78,67,56,45)"
   ]
  },
  {
   "cell_type": "code",
   "execution_count": 14,
   "id": "3cc8b28e",
   "metadata": {},
   "outputs": [],
   "source": [
    "def add2(*args):\n",
    "    s=0\n",
    "    for i in args:\n",
    "        #print(i)\n",
    "        s=s+i\n",
    "    return s"
   ]
  },
  {
   "cell_type": "code",
   "execution_count": 15,
   "id": "da78b643",
   "metadata": {},
   "outputs": [
    {
     "data": {
      "text/plain": [
       "348"
      ]
     },
     "execution_count": 15,
     "metadata": {},
     "output_type": "execute_result"
    }
   ],
   "source": [
    "s1=add2(45,67,89,23,12,67,45)\n",
    "s1"
   ]
  },
  {
   "cell_type": "code",
   "execution_count": 23,
   "id": "525f582a",
   "metadata": {},
   "outputs": [],
   "source": [
    "def multiply(x,*args):\n",
    "    welcome=f\"Welcome {x}\"\n",
    "    p= 1\n",
    "    for i in args:\n",
    "        p=i*p\n",
    "    return f\"{welcome}. Product of given data is {p}\"\n",
    "    #return f\"elcome {x}. Product of given data is {p}\"."
   ]
  },
  {
   "cell_type": "code",
   "execution_count": 24,
   "id": "b54fdd7c",
   "metadata": {},
   "outputs": [],
   "source": [
    "m1= multiply(\"Raman\",67,78,34,23,34)"
   ]
  },
  {
   "cell_type": "code",
   "execution_count": 25,
   "id": "491630cd",
   "metadata": {},
   "outputs": [
    {
     "data": {
      "text/plain": [
       "'Welcome Raman. Product of given data is 138948888'"
      ]
     },
     "execution_count": 25,
     "metadata": {},
     "output_type": "execute_result"
    }
   ],
   "source": [
    "m1"
   ]
  },
  {
   "cell_type": "code",
   "execution_count": 26,
   "id": "33c9cfba",
   "metadata": {},
   "outputs": [],
   "source": [
    "employee1 = [101,\"Raman\"]\n",
    "employee2 = [102,\"Thaman\"]\n",
    "employee3 = [103,\"Suman\"]\n"
   ]
  },
  {
   "cell_type": "code",
   "execution_count": 27,
   "id": "8aef7f19",
   "metadata": {},
   "outputs": [],
   "source": [
    "def add_dept(*args):\n",
    "    for i in args:\n",
    "        i.append(\"IT\")"
   ]
  },
  {
   "cell_type": "code",
   "execution_count": 28,
   "id": "a9342d8d",
   "metadata": {},
   "outputs": [],
   "source": [
    "add_dept(employee1,employee2,employee3)"
   ]
  },
  {
   "cell_type": "code",
   "execution_count": 29,
   "id": "7cbe2bc9",
   "metadata": {},
   "outputs": [
    {
     "data": {
      "text/plain": [
       "[101, 'Raman', 'IT']"
      ]
     },
     "execution_count": 29,
     "metadata": {},
     "output_type": "execute_result"
    }
   ],
   "source": [
    "employee1"
   ]
  },
  {
   "cell_type": "code",
   "execution_count": 30,
   "id": "bf949fa8",
   "metadata": {},
   "outputs": [
    {
     "data": {
      "text/plain": [
       "[102, 'Thaman', 'IT']"
      ]
     },
     "execution_count": 30,
     "metadata": {},
     "output_type": "execute_result"
    }
   ],
   "source": [
    "employee2"
   ]
  },
  {
   "cell_type": "code",
   "execution_count": 31,
   "id": "e51eedc2",
   "metadata": {},
   "outputs": [
    {
     "data": {
      "text/plain": [
       "[103, 'Suman', 'IT']"
      ]
     },
     "execution_count": 31,
     "metadata": {},
     "output_type": "execute_result"
    }
   ],
   "source": [
    "employee3"
   ]
  },
  {
   "cell_type": "markdown",
   "id": "70ba96db",
   "metadata": {},
   "source": [
    "## Keyword arguments"
   ]
  },
  {
   "cell_type": "code",
   "execution_count": 32,
   "id": "346a47d7",
   "metadata": {},
   "outputs": [
    {
     "data": {
      "text/plain": [
       "134"
      ]
     },
     "execution_count": 32,
     "metadata": {},
     "output_type": "execute_result"
    }
   ],
   "source": [
    "add(56,78)"
   ]
  },
  {
   "cell_type": "code",
   "execution_count": 33,
   "id": "e6a06fa2",
   "metadata": {},
   "outputs": [
    {
     "data": {
      "text/plain": [
       "90"
      ]
     },
     "execution_count": 33,
     "metadata": {},
     "output_type": "execute_result"
    }
   ],
   "source": [
    "add(y=67,x=23)"
   ]
  },
  {
   "cell_type": "code",
   "execution_count": 35,
   "id": "3be2e9a0",
   "metadata": {},
   "outputs": [],
   "source": [
    "def func(**kwargs):\n",
    "    print(type(kwargs))\n",
    "    print(kwargs.items())\n"
   ]
  },
  {
   "cell_type": "code",
   "execution_count": 36,
   "id": "472fce17",
   "metadata": {},
   "outputs": [],
   "source": [
    "dct = {\n",
    "    \"emp\":101,\n",
    "    \"dept\":\"HR\"\n",
    "}"
   ]
  },
  {
   "cell_type": "code",
   "execution_count": 38,
   "id": "7f26cf0a",
   "metadata": {},
   "outputs": [
    {
     "data": {
      "text/plain": [
       "dict"
      ]
     },
     "execution_count": 38,
     "metadata": {},
     "output_type": "execute_result"
    }
   ],
   "source": [
    "type(dct)"
   ]
  },
  {
   "cell_type": "code",
   "execution_count": 39,
   "id": "fd457eda",
   "metadata": {},
   "outputs": [
    {
     "data": {
      "text/plain": [
       "dict_items([('emp', 101), ('dept', 'HR')])"
      ]
     },
     "execution_count": 39,
     "metadata": {},
     "output_type": "execute_result"
    }
   ],
   "source": [
    "dct.items()"
   ]
  },
  {
   "cell_type": "code",
   "execution_count": 40,
   "id": "378d879a",
   "metadata": {},
   "outputs": [
    {
     "name": "stdout",
     "output_type": "stream",
     "text": [
      "<class 'dict'>\n",
      "dict_items([('id', 101), ('dept', 'hr')])\n"
     ]
    }
   ],
   "source": [
    "func(id=101,dept=\"hr\")"
   ]
  },
  {
   "cell_type": "code",
   "execution_count": 41,
   "id": "40c28e37",
   "metadata": {},
   "outputs": [],
   "source": [
    "def func2(**kwargs):\n",
    "    print(kwargs.keys())\n",
    "    print(kwargs.values())"
   ]
  },
  {
   "cell_type": "code",
   "execution_count": 43,
   "id": "a0792910",
   "metadata": {},
   "outputs": [
    {
     "name": "stdout",
     "output_type": "stream",
     "text": [
      "dict_keys(['ids', 'depts'])\n",
      "dict_values([[101, 201, 301], ('hr', 'sales', 'marketing')])\n"
     ]
    }
   ],
   "source": [
    "func2(ids=[101,201,301],depts=(\"hr\",\"sales\",\"marketing\"))"
   ]
  },
  {
   "cell_type": "markdown",
   "id": "929e0373",
   "metadata": {},
   "source": [
    "## Write a function that returns the length of input items passed to it"
   ]
  },
  {
   "cell_type": "code",
   "execution_count": 44,
   "id": "f4ea67e4",
   "metadata": {},
   "outputs": [
    {
     "data": {
      "text/plain": [
       "[101, 'Raman', 'IT']"
      ]
     },
     "execution_count": 44,
     "metadata": {},
     "output_type": "execute_result"
    }
   ],
   "source": [
    "employee1"
   ]
  },
  {
   "cell_type": "code",
   "execution_count": 45,
   "id": "52108e39",
   "metadata": {},
   "outputs": [
    {
     "data": {
      "text/plain": [
       "[102, 'Thaman', 'IT']"
      ]
     },
     "execution_count": 45,
     "metadata": {},
     "output_type": "execute_result"
    }
   ],
   "source": [
    "employee2"
   ]
  },
  {
   "cell_type": "code",
   "execution_count": 46,
   "id": "38e274a8",
   "metadata": {},
   "outputs": [],
   "source": [
    "employee2.append(67000)"
   ]
  },
  {
   "cell_type": "code",
   "execution_count": 47,
   "id": "3529b667",
   "metadata": {},
   "outputs": [
    {
     "data": {
      "text/plain": [
       "[102, 'Thaman', 'IT', 67000]"
      ]
     },
     "execution_count": 47,
     "metadata": {},
     "output_type": "execute_result"
    }
   ],
   "source": [
    "employee2"
   ]
  },
  {
   "cell_type": "code",
   "execution_count": 48,
   "id": "a930a8bd",
   "metadata": {},
   "outputs": [],
   "source": [
    "employee3.append(62000)"
   ]
  },
  {
   "cell_type": "code",
   "execution_count": 49,
   "id": "3933a5f3",
   "metadata": {},
   "outputs": [],
   "source": [
    "employee3.append(True)"
   ]
  },
  {
   "cell_type": "code",
   "execution_count": 50,
   "id": "acc13014",
   "metadata": {},
   "outputs": [
    {
     "data": {
      "text/plain": [
       "[103, 'Suman', 'IT', 62000, True]"
      ]
     },
     "execution_count": 50,
     "metadata": {},
     "output_type": "execute_result"
    }
   ],
   "source": [
    "employee3"
   ]
  },
  {
   "cell_type": "code",
   "execution_count": 51,
   "id": "20190229",
   "metadata": {},
   "outputs": [
    {
     "data": {
      "text/plain": [
       "{'emp': 101, 'dept': 'HR'}"
      ]
     },
     "execution_count": 51,
     "metadata": {},
     "output_type": "execute_result"
    }
   ],
   "source": [
    "dct"
   ]
  },
  {
   "cell_type": "code",
   "execution_count": 52,
   "id": "482e8340",
   "metadata": {},
   "outputs": [
    {
     "name": "stdout",
     "output_type": "stream",
     "text": [
      "key is : emp\n",
      "value is 101\n",
      "key is : dept\n",
      "value is HR\n"
     ]
    }
   ],
   "source": [
    "for k,v in dct.items():\n",
    "    print(f\"key is : {k}\"  )\n",
    "    print(f\"value is {v}\")"
   ]
  },
  {
   "cell_type": "code",
   "execution_count": 55,
   "id": "a1ba5ed0",
   "metadata": {},
   "outputs": [],
   "source": [
    "def len_data(**kwargs):\n",
    "    dct = {}\n",
    "    for key,data in kwargs.items():\n",
    "        dct[key]=len(data)\n",
    "        #dct[emp1]= len(employee1)\n",
    "        #dct[emp2]= len(employee2)\n",
    "        #dct[emp3]= len(employee3)\n",
    "    return dct\n",
    "    #dct.items() : ((emp1,3),(emp2,4),(emp3,5))\n",
    " "
   ]
  },
  {
   "cell_type": "code",
   "execution_count": 56,
   "id": "3ac1482b",
   "metadata": {},
   "outputs": [
    {
     "data": {
      "text/plain": [
       "{'emp1': 3, 'emp2': 4, 'emp3': 5}"
      ]
     },
     "execution_count": 56,
     "metadata": {},
     "output_type": "execute_result"
    }
   ],
   "source": [
    "len_data(emp1=employee1,emp2=employee2,emp3=employee3)"
   ]
  },
  {
   "cell_type": "code",
   "execution_count": null,
   "id": "66def529",
   "metadata": {},
   "outputs": [
    {
     "ename": "NameError",
     "evalue": "name 'b2_2' is not defined",
     "output_type": "error",
     "traceback": [
      "\u001b[31m---------------------------------------------------------------------------\u001b[39m",
      "\u001b[31mNameError\u001b[39m                                 Traceback (most recent call last)",
      "\u001b[36mCell\u001b[39m\u001b[36m \u001b[39m\u001b[32mIn[1]\u001b[39m\u001b[32m, line 1\u001b[39m\n\u001b[32m----> \u001b[39m\u001b[32m1\u001b[39m \u001b[43mb2_2\u001b[49m.account_name\n",
      "\u001b[31mNameError\u001b[39m: name 'b2_2' is not defined"
     ]
    }
   ],
   "source": []
  },
  {
   "cell_type": "code",
   "execution_count": null,
   "id": "6bb601f0",
   "metadata": {},
   "outputs": [],
   "source": []
  }
 ],
 "metadata": {
  "kernelspec": {
   "display_name": "venv",
   "language": "python",
   "name": "python3"
  },
  "language_info": {
   "codemirror_mode": {
    "name": "ipython",
    "version": 3
   },
   "file_extension": ".py",
   "mimetype": "text/x-python",
   "name": "python",
   "nbconvert_exporter": "python",
   "pygments_lexer": "ipython3",
   "version": "3.13.3"
  }
 },
 "nbformat": 4,
 "nbformat_minor": 5
}
