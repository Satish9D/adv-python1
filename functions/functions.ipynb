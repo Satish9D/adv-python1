{
 "cells": [
  {
   "cell_type": "markdown",
   "id": "7190763b",
   "metadata": {},
   "source": [
    "## Functions"
   ]
  },
  {
   "cell_type": "code",
   "execution_count": 1,
   "id": "6c2e21ac",
   "metadata": {},
   "outputs": [],
   "source": [
    "def add(x,y):\n",
    "    c=x+y\n",
    "    return c\n"
   ]
  },
  {
   "cell_type": "code",
   "execution_count": 2,
   "id": "3600911a",
   "metadata": {},
   "outputs": [],
   "source": [
    "a1=add(30,40)\n"
   ]
  },
  {
   "cell_type": "code",
   "execution_count": 4,
   "id": "de1cceb8",
   "metadata": {},
   "outputs": [
    {
     "name": "stdout",
     "output_type": "stream",
     "text": [
      "70\n"
     ]
    }
   ],
   "source": [
    "print(a1)"
   ]
  },
  {
   "cell_type": "code",
   "execution_count": 5,
   "id": "c918c03f",
   "metadata": {},
   "outputs": [
    {
     "data": {
      "text/plain": [
       "90"
      ]
     },
     "execution_count": 5,
     "metadata": {},
     "output_type": "execute_result"
    }
   ],
   "source": [
    "add(32,58)"
   ]
  },
  {
   "cell_type": "markdown",
   "id": "84fb6513",
   "metadata": {},
   "source": [
    "## variadic functions"
   ]
  },
  {
   "cell_type": "code",
   "execution_count": 6,
   "id": "d1b163ca",
   "metadata": {},
   "outputs": [
    {
     "data": {
      "text/plain": [
       "145"
      ]
     },
     "execution_count": 6,
     "metadata": {},
     "output_type": "execute_result"
    }
   ],
   "source": [
    "add(56,89)"
   ]
  },
  {
   "cell_type": "code",
   "execution_count": 7,
   "id": "1fe18584",
   "metadata": {},
   "outputs": [],
   "source": [
    "#add(78,67,56,45)"
   ]
  },
  {
   "cell_type": "code",
   "execution_count": 8,
   "id": "0026538c",
   "metadata": {},
   "outputs": [],
   "source": [
    "def add1(*args):\n",
    "    for i in args:\n",
    "        print(i)\n"
   ]
  },
  {
   "cell_type": "code",
   "execution_count": 9,
   "id": "2e409866",
   "metadata": {},
   "outputs": [
    {
     "name": "stdout",
     "output_type": "stream",
     "text": [
      "78\n",
      "67\n",
      "56\n",
      "45\n"
     ]
    }
   ],
   "source": [
    "add1(78,67,56,45)"
   ]
  },
  {
   "cell_type": "code",
   "execution_count": 14,
   "id": "3cc8b28e",
   "metadata": {},
   "outputs": [],
   "source": [
    "def add2(*args):\n",
    "    s=0\n",
    "    for i in args:\n",
    "        #print(i)\n",
    "        s=s+i\n",
    "    return s"
   ]
  },
  {
   "cell_type": "code",
   "execution_count": 15,
   "id": "da78b643",
   "metadata": {},
   "outputs": [
    {
     "data": {
      "text/plain": [
       "348"
      ]
     },
     "execution_count": 15,
     "metadata": {},
     "output_type": "execute_result"
    }
   ],
   "source": [
    "s1=add2(45,67,89,23,12,67,45)\n",
    "s1"
   ]
  },
  {
   "cell_type": "code",
   "execution_count": 23,
   "id": "525f582a",
   "metadata": {},
   "outputs": [],
   "source": [
    "def multiply(x,*args):\n",
    "    welcome=f\"Welcome {x}\"\n",
    "    p= 1\n",
    "    for i in args:\n",
    "        p=i*p\n",
    "    return f\"{welcome}. Product of given data is {p}\"\n",
    "    #return f\"elcome {x}. Product of given data is {p}\"."
   ]
  },
  {
   "cell_type": "code",
   "execution_count": 24,
   "id": "b54fdd7c",
   "metadata": {},
   "outputs": [],
   "source": [
    "m1= multiply(\"Raman\",67,78,34,23,34)"
   ]
  },
  {
   "cell_type": "code",
   "execution_count": 25,
   "id": "491630cd",
   "metadata": {},
   "outputs": [
    {
     "data": {
      "text/plain": [
       "'Welcome Raman. Product of given data is 138948888'"
      ]
     },
     "execution_count": 25,
     "metadata": {},
     "output_type": "execute_result"
    }
   ],
   "source": [
    "m1"
   ]
  },
  {
   "cell_type": "code",
   "execution_count": null,
   "id": "33c9cfba",
   "metadata": {},
   "outputs": [],
   "source": []
  }
 ],
 "metadata": {
  "kernelspec": {
   "display_name": "venv",
   "language": "python",
   "name": "python3"
  },
  "language_info": {
   "codemirror_mode": {
    "name": "ipython",
    "version": 3
   },
   "file_extension": ".py",
   "mimetype": "text/x-python",
   "name": "python",
   "nbconvert_exporter": "python",
   "pygments_lexer": "ipython3",
   "version": "3.13.3"
  }
 },
 "nbformat": 4,
 "nbformat_minor": 5
}
