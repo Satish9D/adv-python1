{
 "cells": [
  {
   "cell_type": "markdown",
   "id": "86ea8e8d",
   "metadata": {},
   "source": [
    "## Class"
   ]
  },
  {
   "cell_type": "code",
   "execution_count": 2,
   "id": "3cba6220",
   "metadata": {},
   "outputs": [
    {
     "data": {
      "text/html": [
       "<div>\n",
       "<style scoped>\n",
       "    .dataframe tbody tr th:only-of-type {\n",
       "        vertical-align: middle;\n",
       "    }\n",
       "\n",
       "    .dataframe tbody tr th {\n",
       "        vertical-align: top;\n",
       "    }\n",
       "\n",
       "    .dataframe thead th {\n",
       "        text-align: right;\n",
       "    }\n",
       "</style>\n",
       "<table border=\"1\" class=\"dataframe\">\n",
       "  <thead>\n",
       "    <tr style=\"text-align: right;\">\n",
       "      <th></th>\n",
       "      <th>RND</th>\n",
       "      <th>ADMIN</th>\n",
       "      <th>MKT</th>\n",
       "      <th>STATE</th>\n",
       "      <th>PROFIT</th>\n",
       "    </tr>\n",
       "  </thead>\n",
       "  <tbody>\n",
       "    <tr>\n",
       "      <th>0</th>\n",
       "      <td>165349.20</td>\n",
       "      <td>136897.80</td>\n",
       "      <td>471784.10</td>\n",
       "      <td>New York</td>\n",
       "      <td>192261.83</td>\n",
       "    </tr>\n",
       "    <tr>\n",
       "      <th>1</th>\n",
       "      <td>162597.70</td>\n",
       "      <td>151377.59</td>\n",
       "      <td>443898.53</td>\n",
       "      <td>California</td>\n",
       "      <td>191792.06</td>\n",
       "    </tr>\n",
       "    <tr>\n",
       "      <th>2</th>\n",
       "      <td>153441.51</td>\n",
       "      <td>101145.55</td>\n",
       "      <td>407934.54</td>\n",
       "      <td>Florida</td>\n",
       "      <td>191050.39</td>\n",
       "    </tr>\n",
       "    <tr>\n",
       "      <th>3</th>\n",
       "      <td>144372.41</td>\n",
       "      <td>118671.85</td>\n",
       "      <td>383199.62</td>\n",
       "      <td>New York</td>\n",
       "      <td>182901.99</td>\n",
       "    </tr>\n",
       "    <tr>\n",
       "      <th>4</th>\n",
       "      <td>142107.34</td>\n",
       "      <td>91391.77</td>\n",
       "      <td>366168.42</td>\n",
       "      <td>Florida</td>\n",
       "      <td>166187.94</td>\n",
       "    </tr>\n",
       "  </tbody>\n",
       "</table>\n",
       "</div>"
      ],
      "text/plain": [
       "         RND      ADMIN        MKT       STATE     PROFIT\n",
       "0  165349.20  136897.80  471784.10    New York  192261.83\n",
       "1  162597.70  151377.59  443898.53  California  191792.06\n",
       "2  153441.51  101145.55  407934.54     Florida  191050.39\n",
       "3  144372.41  118671.85  383199.62    New York  182901.99\n",
       "4  142107.34   91391.77  366168.42     Florida  166187.94"
      ]
     },
     "execution_count": 2,
     "metadata": {},
     "output_type": "execute_result"
    }
   ],
   "source": [
    "import pandas as pd\n",
    "path = r\"c:\\Users\\satis\\Downloads\\50_Startups (3).csv\"\n",
    "df = pd.read_csv(path)\n",
    "df.head()"
   ]
  },
  {
   "cell_type": "code",
   "execution_count": 3,
   "id": "2032e11d",
   "metadata": {},
   "outputs": [
    {
     "data": {
      "text/plain": [
       "(50, 5)"
      ]
     },
     "execution_count": 3,
     "metadata": {},
     "output_type": "execute_result"
    }
   ],
   "source": [
    "df.shape"
   ]
  },
  {
   "cell_type": "code",
   "execution_count": 4,
   "id": "3fc74f74",
   "metadata": {},
   "outputs": [
    {
     "data": {
      "text/plain": [
       "Index(['RND', 'ADMIN', 'MKT', 'STATE', 'PROFIT'], dtype='object')"
      ]
     },
     "execution_count": 4,
     "metadata": {},
     "output_type": "execute_result"
    }
   ],
   "source": [
    "df.columns"
   ]
  },
  {
   "cell_type": "code",
   "execution_count": 5,
   "id": "477218cc",
   "metadata": {},
   "outputs": [
    {
     "name": "stdout",
     "output_type": "stream",
     "text": [
      "<class 'pandas.core.frame.DataFrame'>\n",
      "RangeIndex: 50 entries, 0 to 49\n",
      "Data columns (total 5 columns):\n",
      " #   Column  Non-Null Count  Dtype  \n",
      "---  ------  --------------  -----  \n",
      " 0   RND     50 non-null     float64\n",
      " 1   ADMIN   50 non-null     float64\n",
      " 2   MKT     50 non-null     float64\n",
      " 3   STATE   50 non-null     object \n",
      " 4   PROFIT  50 non-null     float64\n",
      "dtypes: float64(4), object(1)\n",
      "memory usage: 2.1+ KB\n"
     ]
    }
   ],
   "source": [
    "df.info()"
   ]
  },
  {
   "cell_type": "markdown",
   "id": "c88317e3",
   "metadata": {},
   "source": [
    "## Create a class of person with attributes as Name,Age.Gender,Occupation"
   ]
  },
  {
   "cell_type": "code",
   "execution_count": 12,
   "id": "16779061",
   "metadata": {},
   "outputs": [],
   "source": [
    "class person:\n",
    "    # define the instance/object attributes\n",
    "    def __init__(self,name,age,gender,occupation):\n",
    "        self.name = name\n",
    "        self.age =age\n",
    "        self.gender = gender\n",
    "        self.occupation = occupation\n",
    "    \n",
    "    def introduce(self):\n",
    "        print(f\"Hi, my name is {self.name}. I am {self.age} years old. I work for {self.occupation} organization\")\n",
    "    \n",
    "    def work(self):\n",
    "        print(f\"My work hours are 9am - 6pm\")\n",
    "    \n",
    "    def hobbies(self):\n",
    "        print(f\"My hobbies are playing cricket, watching movies\")\n",
    "\n"
   ]
  },
  {
   "cell_type": "code",
   "execution_count": 13,
   "id": "ee8eb384",
   "metadata": {},
   "outputs": [],
   "source": [
    "# Instance creation / object creation\n",
    "p1 = person(name=\"Raman\",age=35, gender=\"Male\" , occupation= \"accenture\")"
   ]
  },
  {
   "cell_type": "code",
   "execution_count": 14,
   "id": "e725ba23",
   "metadata": {},
   "outputs": [
    {
     "data": {
      "text/plain": [
       "35"
      ]
     },
     "execution_count": 14,
     "metadata": {},
     "output_type": "execute_result"
    }
   ],
   "source": [
    "p1.age"
   ]
  },
  {
   "cell_type": "code",
   "execution_count": 15,
   "id": "7ec92b2f",
   "metadata": {},
   "outputs": [
    {
     "data": {
      "text/plain": [
       "'Raman'"
      ]
     },
     "execution_count": 15,
     "metadata": {},
     "output_type": "execute_result"
    }
   ],
   "source": [
    "p1.name"
   ]
  },
  {
   "cell_type": "code",
   "execution_count": 16,
   "id": "bd4d066e",
   "metadata": {},
   "outputs": [
    {
     "name": "stdout",
     "output_type": "stream",
     "text": [
      "Hi, my name is Raman. I am 35 years old. I work for accenture organization\n"
     ]
    }
   ],
   "source": [
    "p1.introduce()"
   ]
  },
  {
   "cell_type": "code",
   "execution_count": 17,
   "id": "df9b6c13",
   "metadata": {},
   "outputs": [
    {
     "name": "stdout",
     "output_type": "stream",
     "text": [
      "My hobbies are playing cricket, watching movies\n"
     ]
    }
   ],
   "source": [
    "p1.hobbies()"
   ]
  },
  {
   "cell_type": "code",
   "execution_count": 18,
   "id": "3c4b1ab7",
   "metadata": {},
   "outputs": [
    {
     "name": "stdout",
     "output_type": "stream",
     "text": [
      "My work hours are 9am - 6pm\n"
     ]
    }
   ],
   "source": [
    "p1.work()\n"
   ]
  },
  {
   "cell_type": "markdown",
   "id": "a663ebab",
   "metadata": {},
   "source": [
    "## Create a class bank account with attributes as account holder name, balance ,account number Define below methods : withdrawal deposit transfer"
   ]
  },
  {
   "cell_type": "code",
   "execution_count": 19,
   "id": "a62b1bff",
   "metadata": {},
   "outputs": [],
   "source": [
    "class bank_account:\n",
    "    #define instance attributes\n",
    "    def __init__(self,account_number,account_holder_name,balance):\n",
    "        self.account_number = account_number\n",
    "        self.account_holder_name = account_holder_name\n",
    "        self.balance= balance\n",
    "    \n",
    "    # define deposit method\n",
    "    def deposit(self,amount):\n",
    "        self.balance = self.balance + amount\n",
    "        return f\"Amount got deposited to {self.account_number}. Your new balance is {self.balance}\"\n",
    "    \n",
    "    # define withdrawal method\n",
    "    def withdrawal(self,amt_withdraw):\n",
    "        # check whether withdrawal amount is less than original balance\n",
    "        if amt_withdraw < self.balance:\n",
    "            self.balance = self.balance - amt_withdraw\n",
    "            return f\"Amount got deducted from {self.account_number}. Your new balance is {self.balance}\"\n",
    "        else:\n",
    "            return f\"{self.account_holder_name},Insufficient balance in {self.account_number}. Cannot proceed with withdrawal process\"\n",
    "    \n",
    "    # define transfer method\n",
    "    def transfer(self,account_no,transfer_amnt):\n",
    "        self.balance = self.balance - transfer_amnt\n",
    "        return f\"{self.account_holder_name},Your account transfer is successful. Your new balance is {self.balance}\""
   ]
  },
  {
   "cell_type": "code",
   "execution_count": 20,
   "id": "2c570b87",
   "metadata": {},
   "outputs": [],
   "source": [
    "c1 = bank_account(15490233,\"THaman\",89500)"
   ]
  },
  {
   "cell_type": "code",
   "execution_count": 21,
   "id": "63a02ff6",
   "metadata": {},
   "outputs": [
    {
     "data": {
      "text/plain": [
       "'THaman'"
      ]
     },
     "execution_count": 21,
     "metadata": {},
     "output_type": "execute_result"
    }
   ],
   "source": [
    "c1.account_holder_name"
   ]
  },
  {
   "cell_type": "code",
   "execution_count": 22,
   "id": "b094b854",
   "metadata": {},
   "outputs": [
    {
     "data": {
      "text/plain": [
       "89500"
      ]
     },
     "execution_count": 22,
     "metadata": {},
     "output_type": "execute_result"
    }
   ],
   "source": [
    "\n",
    "c1.balance"
   ]
  },
  {
   "cell_type": "code",
   "execution_count": 23,
   "id": "45b58be6",
   "metadata": {},
   "outputs": [
    {
     "data": {
      "text/plain": [
       "15490233"
      ]
     },
     "execution_count": 23,
     "metadata": {},
     "output_type": "execute_result"
    }
   ],
   "source": [
    "\n",
    "c1.account_number"
   ]
  },
  {
   "cell_type": "code",
   "execution_count": 24,
   "id": "15b73884",
   "metadata": {},
   "outputs": [
    {
     "ename": "TypeError",
     "evalue": "bank_account.deposit() missing 1 required positional argument: 'amount'",
     "output_type": "error",
     "traceback": [
      "\u001b[31m---------------------------------------------------------------------------\u001b[39m",
      "\u001b[31mTypeError\u001b[39m                                 Traceback (most recent call last)",
      "\u001b[36mCell\u001b[39m\u001b[36m \u001b[39m\u001b[32mIn[24]\u001b[39m\u001b[32m, line 1\u001b[39m\n\u001b[32m----> \u001b[39m\u001b[32m1\u001b[39m \u001b[43mc1\u001b[49m\u001b[43m.\u001b[49m\u001b[43mdeposit\u001b[49m\u001b[43m(\u001b[49m\u001b[43m)\u001b[49m\n",
      "\u001b[31mTypeError\u001b[39m: bank_account.deposit() missing 1 required positional argument: 'amount'"
     ]
    }
   ],
   "source": [
    "c1.deposit()"
   ]
  },
  {
   "cell_type": "code",
   "execution_count": 25,
   "id": "933cb21b",
   "metadata": {},
   "outputs": [
    {
     "data": {
      "text/plain": [
       "'Amount got deposited to 15490233. Your new balance is 145500'"
      ]
     },
     "execution_count": 25,
     "metadata": {},
     "output_type": "execute_result"
    }
   ],
   "source": [
    "c1.deposit(56000)"
   ]
  },
  {
   "cell_type": "code",
   "execution_count": 26,
   "id": "38b0f30d",
   "metadata": {},
   "outputs": [
    {
     "data": {
      "text/plain": [
       "'Amount got deducted from 15490233. Your new balance is 144600'"
      ]
     },
     "execution_count": 26,
     "metadata": {},
     "output_type": "execute_result"
    }
   ],
   "source": [
    "\n",
    "c1.withdrawal(900)"
   ]
  },
  {
   "cell_type": "code",
   "execution_count": 27,
   "id": "bb3cfe39",
   "metadata": {},
   "outputs": [
    {
     "data": {
      "text/plain": [
       "'THaman,Your account transfer is successful. Your new balance is 119600'"
      ]
     },
     "execution_count": 27,
     "metadata": {},
     "output_type": "execute_result"
    }
   ],
   "source": [
    "c1.transfer(8957456,25000)"
   ]
  },
  {
   "cell_type": "markdown",
   "id": "bba2bcac",
   "metadata": {},
   "source": [
    "## Class Attributes"
   ]
  },
  {
   "cell_type": "code",
   "execution_count": 28,
   "id": "89775c9a",
   "metadata": {},
   "outputs": [],
   "source": [
    "class bank:\n",
    "    # class attributes\n",
    "    bank_name = \"HDFC\"\n",
    "    branch = \"Pimple Saudagar\"\n",
    "\n",
    "    def welcome():\n",
    "        pass"
   ]
  },
  {
   "cell_type": "code",
   "execution_count": 30,
   "id": "89a2dd96",
   "metadata": {},
   "outputs": [],
   "source": [
    "b1 = bank()\n",
    "b2 = bank()\n"
   ]
  },
  {
   "cell_type": "code",
   "execution_count": 31,
   "id": "f0108761",
   "metadata": {},
   "outputs": [
    {
     "data": {
      "text/plain": [
       "'HDFC'"
      ]
     },
     "execution_count": 31,
     "metadata": {},
     "output_type": "execute_result"
    }
   ],
   "source": [
    "b1.bank_name"
   ]
  },
  {
   "cell_type": "code",
   "execution_count": 32,
   "id": "7066db86",
   "metadata": {},
   "outputs": [
    {
     "data": {
      "text/plain": [
       "'HDFC'"
      ]
     },
     "execution_count": 32,
     "metadata": {},
     "output_type": "execute_result"
    }
   ],
   "source": [
    "b2.bank_name"
   ]
  },
  {
   "cell_type": "code",
   "execution_count": 33,
   "id": "4bbad1c6",
   "metadata": {},
   "outputs": [
    {
     "data": {
      "text/plain": [
       "'Pimple Saudagar'"
      ]
     },
     "execution_count": 33,
     "metadata": {},
     "output_type": "execute_result"
    }
   ],
   "source": [
    "b2.branch"
   ]
  },
  {
   "cell_type": "code",
   "execution_count": 34,
   "id": "c759f771",
   "metadata": {},
   "outputs": [],
   "source": [
    "class bank1:\n",
    "    # class attributes\n",
    "    bank_name = \"HDFC\"\n",
    "    branch = \"Pimple Saudagar\"\n",
    "\n",
    "    @classmethod\n",
    "    def welcome(cls):\n",
    "        print(f\"Welcome to {cls.bank_name}, Our branch is located at {cls.branch}\")"
   ]
  },
  {
   "cell_type": "code",
   "execution_count": 35,
   "id": "303fc855",
   "metadata": {},
   "outputs": [],
   "source": [
    "b1_1 = bank1()\n",
    "b1_2 = bank1()"
   ]
  },
  {
   "cell_type": "code",
   "execution_count": 36,
   "id": "dc07c78a",
   "metadata": {},
   "outputs": [
    {
     "data": {
      "text/plain": [
       "'Pimple Saudagar'"
      ]
     },
     "execution_count": 36,
     "metadata": {},
     "output_type": "execute_result"
    }
   ],
   "source": [
    "b1_1.branch"
   ]
  },
  {
   "cell_type": "code",
   "execution_count": 37,
   "id": "1e809a86",
   "metadata": {},
   "outputs": [
    {
     "name": "stdout",
     "output_type": "stream",
     "text": [
      "Welcome to HDFC, Our branch is located at Pimple Saudagar\n"
     ]
    }
   ],
   "source": [
    "b1_1.welcome()"
   ]
  },
  {
   "cell_type": "code",
   "execution_count": 38,
   "id": "66b9242d",
   "metadata": {},
   "outputs": [],
   "source": [
    "class bank2:\n",
    "    # class attributes\n",
    "    bank_name = \"HDFC\"\n",
    "    branch = \"Pimple Saudagar\"\n",
    "\n",
    "    def __init__(self,account_name,account_no,balance):\n",
    "        self.account_name = account_name\n",
    "        self.account_no = account_no\n",
    "        self.balance = balance\n",
    "\n",
    "    # TO use class attributes, mention classmethod and pass cls as method input parameter\n",
    "    @classmethod\n",
    "    def welcome(cls):\n",
    "        print(f\"Welcome to {cls.bank_name}, Our branch is located at {cls.branch}\")\n",
    "    \n",
    "    # define deposit method\n",
    "    def deposit(self,amount):\n",
    "        self.balance = self.balance + amount\n",
    "        return f\"Amount got deposited to {self.account_number}. Your new balance is {self.balance}\"\n",
    "    \n",
    "    # define withdrawal method\n",
    "    def withdrawal(self,amt_withdraw):\n",
    "        # check whether withdrawal amount is less than original balance\n",
    "        if amt_withdraw < self.balance:\n",
    "            self.balance = self.balance - amt_withdraw\n",
    "            return f\"Amount got deducted from {self.account_number}. Your new balance is {self.balance}\"\n",
    "        else:\n",
    "            return f\"{self.account_holder_name},Insufficient balance in {self.account_number}. Cannot proceed with withdrawal process\"\n",
    "    \n",
    "    # define transfer method\n",
    "    def transfer(self,account_no,transfer_amnt):\n",
    "        self.balance = self.balance - transfer_amnt\n",
    "        return f\"{self.account_holder_name},Your account transfer is successful. Your new balance is {self.balance}\""
   ]
  },
  {
   "cell_type": "code",
   "execution_count": 39,
   "id": "4094f035",
   "metadata": {},
   "outputs": [],
   "source": [
    "b2_1 = bank2(\"Raman\",345345345,125000)\n",
    "b2_2 = bank2(\"Suman\",456546456,90800)"
   ]
  },
  {
   "cell_type": "code",
   "execution_count": 40,
   "id": "ef4a06af",
   "metadata": {},
   "outputs": [
    {
     "data": {
      "text/plain": [
       "'Pimple Saudagar'"
      ]
     },
     "execution_count": 40,
     "metadata": {},
     "output_type": "execute_result"
    }
   ],
   "source": [
    "b2_1.branch"
   ]
  },
  {
   "cell_type": "code",
   "execution_count": 41,
   "id": "129c0501",
   "metadata": {},
   "outputs": [
    {
     "data": {
      "text/plain": [
       "'HDFC'"
      ]
     },
     "execution_count": 41,
     "metadata": {},
     "output_type": "execute_result"
    }
   ],
   "source": [
    "b2_1.bank_name"
   ]
  },
  {
   "cell_type": "code",
   "execution_count": 42,
   "id": "7fcaba24",
   "metadata": {},
   "outputs": [
    {
     "data": {
      "text/plain": [
       "'HDFC'"
      ]
     },
     "execution_count": 42,
     "metadata": {},
     "output_type": "execute_result"
    }
   ],
   "source": [
    "\n",
    "b2_2.bank_name"
   ]
  },
  {
   "cell_type": "code",
   "execution_count": 43,
   "id": "ddc8ac96",
   "metadata": {},
   "outputs": [
    {
     "data": {
      "text/plain": [
       "'Pimple Saudagar'"
      ]
     },
     "execution_count": 43,
     "metadata": {},
     "output_type": "execute_result"
    }
   ],
   "source": [
    "b2_2.branch"
   ]
  },
  {
   "cell_type": "code",
   "execution_count": 44,
   "id": "f4f28a44",
   "metadata": {},
   "outputs": [
    {
     "data": {
      "text/plain": [
       "'Suman'"
      ]
     },
     "execution_count": 44,
     "metadata": {},
     "output_type": "execute_result"
    }
   ],
   "source": [
    "b2_2.account_name"
   ]
  },
  {
   "cell_type": "code",
   "execution_count": 45,
   "id": "6ae323d4",
   "metadata": {},
   "outputs": [
    {
     "data": {
      "text/plain": [
       "'Raman'"
      ]
     },
     "execution_count": 45,
     "metadata": {},
     "output_type": "execute_result"
    }
   ],
   "source": [
    "b2_1.account_name"
   ]
  },
  {
   "cell_type": "code",
   "execution_count": null,
   "id": "6080fc90",
   "metadata": {},
   "outputs": [],
   "source": []
  }
 ],
 "metadata": {
  "kernelspec": {
   "display_name": "venv",
   "language": "python",
   "name": "python3"
  },
  "language_info": {
   "codemirror_mode": {
    "name": "ipython",
    "version": 3
   },
   "file_extension": ".py",
   "mimetype": "text/x-python",
   "name": "python",
   "nbconvert_exporter": "python",
   "pygments_lexer": "ipython3",
   "version": "3.13.3"
  }
 },
 "nbformat": 4,
 "nbformat_minor": 5
}
